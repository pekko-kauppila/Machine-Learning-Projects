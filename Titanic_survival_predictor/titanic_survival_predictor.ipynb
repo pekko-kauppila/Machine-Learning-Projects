{
 "cells": [
  {
   "cell_type": "markdown",
   "id": "ae0edee0-db47-421e-91c2-3bc5b953abce",
   "metadata": {},
   "source": [
    "# Titanic survival predictor\n",
    "\n",
    "Prediction model for surviving the titanic crash using the classic dataset. Playing around with the data to set it up nicely for model testing. Comparing the performance of different ML models of the data. \n",
    "\n",
    "Structure:\n",
    "\n",
    "1. Load data and import libraries\n",
    "2. EDA\n",
    "3. Data preprocessing and feature engineering\n"
   ]
  },
  {
   "cell_type": "markdown",
   "id": "3dde4456-4b56-4210-930e-5de09240a3a2",
   "metadata": {},
   "source": [
    "## 1) Load data and import packages"
   ]
  },
  {
   "cell_type": "code",
   "execution_count": 251,
   "id": "f9f0f2ea-8b5a-4ede-a99b-5aa098d9c5ab",
   "metadata": {},
   "outputs": [],
   "source": [
    "%matplotlib inline\n",
    "import warnings\n",
    "import numpy as np\n",
    "import pandas as pd\n",
    "import seaborn as sns\n",
    "import matplotlib.pyplot as plt\n",
    "\n",
    "from ydata_profiling import ProfileReport\n",
    "from sklearn import preprocessing, neighbors, svm\n",
    "\n",
    "from sklearn.model_selection import train_test_split\n",
    "from sklearn.metrics import accuracy_score, precision_score, recall_score, f1_score, confusion_matrix\n",
    "from sklearn.preprocessing import StandardScaler\n",
    "from sklearn.linear_model import LogisticRegression\n",
    "from sklearn.ensemble import RandomForestClassifier\n",
    "from sklearn.inspection import DecisionBoundaryDisplay\n",
    "from sklearn.tree import DecisionTreeClassifier\n",
    "\n",
    "\n",
    "df = pd.read_csv('Titanic-Dataset.csv')"
   ]
  },
  {
   "cell_type": "markdown",
   "id": "0735772f-80e6-443b-bc5b-8bcddf76dc92",
   "metadata": {},
   "source": [
    "## 2) Explanatory data analysis\n",
    "\n",
    "Basic info of the data shape, columns, data types, missing values etc. The profile report combines relevant information about the variables of the dataset, and visualizes interactions and correlations. "
   ]
  },
  {
   "cell_type": "code",
   "execution_count": 252,
   "id": "fff2caaf-b1e7-4cef-98e5-07b8b9c6f2f9",
   "metadata": {
    "scrolled": true
   },
   "outputs": [
    {
     "name": "stdout",
     "output_type": "stream",
     "text": [
      "\n",
      "\n",
      "______________________________________________\n",
      "\n",
      "\n",
      "Shape:\n",
      "\n",
      "(891, 12)\n",
      "\n",
      "\n",
      "______________________________________________\n",
      "\n",
      "\n",
      "Target value counts:\n",
      "\n",
      "Survived\n",
      "0    549\n",
      "1    342\n",
      "Name: count, dtype: int64\n",
      "\n",
      "\n",
      "______________________________________________\n",
      "\n",
      "\n",
      "Describe:\n",
      "\n",
      "       PassengerId    Survived      Pclass         Age       SibSp  \\\n",
      "count   891.000000  891.000000  891.000000  714.000000  891.000000   \n",
      "mean    446.000000    0.383838    2.308642   29.699118    0.523008   \n",
      "std     257.353842    0.486592    0.836071   14.526497    1.102743   \n",
      "min       1.000000    0.000000    1.000000    0.420000    0.000000   \n",
      "25%     223.500000    0.000000    2.000000   20.125000    0.000000   \n",
      "50%     446.000000    0.000000    3.000000   28.000000    0.000000   \n",
      "75%     668.500000    1.000000    3.000000   38.000000    1.000000   \n",
      "max     891.000000    1.000000    3.000000   80.000000    8.000000   \n",
      "\n",
      "            Parch        Fare  \n",
      "count  891.000000  891.000000  \n",
      "mean     0.381594   32.204208  \n",
      "std      0.806057   49.693429  \n",
      "min      0.000000    0.000000  \n",
      "25%      0.000000    7.910400  \n",
      "50%      0.000000   14.454200  \n",
      "75%      0.000000   31.000000  \n",
      "max      6.000000  512.329200  \n",
      "\n",
      "\n",
      "______________________________________________\n",
      "\n",
      "\n",
      "Missing data (nan values):\n",
      "\n",
      "PassengerId      0\n",
      "Survived         0\n",
      "Pclass           0\n",
      "Name             0\n",
      "Sex              0\n",
      "Age            177\n",
      "SibSp            0\n",
      "Parch            0\n",
      "Ticket           0\n",
      "Fare             0\n",
      "Cabin          687\n",
      "Embarked         2\n",
      "dtype: int64\n",
      "\n",
      "\n",
      "______________________________________________\n",
      "\n",
      "\n",
      "<class 'pandas.core.frame.DataFrame'>\n",
      "RangeIndex: 891 entries, 0 to 890\n",
      "Data columns (total 12 columns):\n",
      " #   Column       Non-Null Count  Dtype  \n",
      "---  ------       --------------  -----  \n",
      " 0   PassengerId  891 non-null    int64  \n",
      " 1   Survived     891 non-null    int64  \n",
      " 2   Pclass       891 non-null    int64  \n",
      " 3   Name         891 non-null    object \n",
      " 4   Sex          891 non-null    object \n",
      " 5   Age          714 non-null    float64\n",
      " 6   SibSp        891 non-null    int64  \n",
      " 7   Parch        891 non-null    int64  \n",
      " 8   Ticket       891 non-null    object \n",
      " 9   Fare         891 non-null    float64\n",
      " 10  Cabin        204 non-null    object \n",
      " 11  Embarked     889 non-null    object \n",
      "dtypes: float64(2), int64(5), object(5)\n",
      "memory usage: 83.7+ KB\n",
      "Info:\n",
      "\n",
      "None\n",
      "\n",
      "\n",
      "______________________________________________\n",
      "\n",
      "\n",
      "Dtypes:\n",
      "\n",
      "PassengerId      int64\n",
      "Survived         int64\n",
      "Pclass           int64\n",
      "Name            object\n",
      "Sex             object\n",
      "Age            float64\n",
      "SibSp            int64\n",
      "Parch            int64\n",
      "Ticket          object\n",
      "Fare           float64\n",
      "Cabin           object\n",
      "Embarked        object\n",
      "dtype: object\n",
      "\n",
      "\n",
      "______________________________________________\n",
      "\n",
      "\n",
      "Head:\n",
      "\n",
      "   PassengerId  Survived  Pclass  \\\n",
      "0            1         0       3   \n",
      "1            2         1       1   \n",
      "2            3         1       3   \n",
      "3            4         1       1   \n",
      "4            5         0       3   \n",
      "\n",
      "                                                Name     Sex   Age  SibSp  \\\n",
      "0                            Braund, Mr. Owen Harris    male  22.0      1   \n",
      "1  Cumings, Mrs. John Bradley (Florence Briggs Th...  female  38.0      1   \n",
      "2                             Heikkinen, Miss. Laina  female  26.0      0   \n",
      "3       Futrelle, Mrs. Jacques Heath (Lily May Peel)  female  35.0      1   \n",
      "4                           Allen, Mr. William Henry    male  35.0      0   \n",
      "\n",
      "   Parch            Ticket     Fare Cabin Embarked  \n",
      "0      0         A/5 21171   7.2500   NaN        S  \n",
      "1      0          PC 17599  71.2833   C85        C  \n",
      "2      0  STON/O2. 3101282   7.9250   NaN        S  \n",
      "3      0            113803  53.1000  C123        S  \n",
      "4      0            373450   8.0500   NaN        S  \n",
      "\n",
      "\n",
      "______________________________________________\n",
      "\n",
      "\n"
     ]
    }
   ],
   "source": [
    "print('\\n\\n______________________________________________\\n\\n')\n",
    "print(f'Shape:\\n\\n{df.shape}')\n",
    "print('\\n\\n______________________________________________\\n\\n')\n",
    "print(f'Target value counts:\\n\\n{df.Survived.value_counts()}')\n",
    "print('\\n\\n______________________________________________\\n\\n')\n",
    "print(f'Describe:\\n\\n{df.describe()}')\n",
    "print('\\n\\n______________________________________________\\n\\n')\n",
    "print(f'Missing data (nan values):\\n\\n{df.isnull().sum()}')\n",
    "print('\\n\\n______________________________________________\\n\\n')\n",
    "print(f'Info:\\n\\n{df.info()}')\n",
    "print('\\n\\n______________________________________________\\n\\n')\n",
    "print(f'Dtypes:\\n\\n{df.dtypes}')\n",
    "print('\\n\\n______________________________________________\\n\\n')\n",
    "print(f'Head:\\n\\n{df.head()}')\n",
    "print('\\n\\n______________________________________________\\n\\n')"
   ]
  },
  {
   "cell_type": "code",
   "execution_count": 253,
   "id": "955da39b-93bb-4e2f-bb7a-491ea90eb5a5",
   "metadata": {},
   "outputs": [
    {
     "data": {
      "application/vnd.jupyter.widget-view+json": {
       "model_id": "e6715745a8d54d27b4d71561c0d760a3",
       "version_major": 2,
       "version_minor": 0
      },
      "text/plain": [
       "Summarize dataset:   0%|          | 0/5 [00:00<?, ?it/s]"
      ]
     },
     "metadata": {},
     "output_type": "display_data"
    },
    {
     "name": "stderr",
     "output_type": "stream",
     "text": [
      "\n",
      "100%|█████████████████████████████████████████████████████████████████████████████████| 12/12 [00:00<00:00, 242.89it/s]\n"
     ]
    },
    {
     "data": {
      "application/vnd.jupyter.widget-view+json": {
       "model_id": "5fc472ab19b748d89452797c18796c9b",
       "version_major": 2,
       "version_minor": 0
      },
      "text/plain": [
       "Generate report structure:   0%|          | 0/1 [00:00<?, ?it/s]"
      ]
     },
     "metadata": {},
     "output_type": "display_data"
    },
    {
     "data": {
      "application/vnd.jupyter.widget-view+json": {
       "model_id": "1470fa21e81c4fd09277d3775347be11",
       "version_major": 2,
       "version_minor": 0
      },
      "text/plain": [
       "Render HTML:   0%|          | 0/1 [00:00<?, ?it/s]"
      ]
     },
     "metadata": {},
     "output_type": "display_data"
    },
    {
     "data": {
      "application/vnd.jupyter.widget-view+json": {
       "model_id": "6b1045abb54340e4821ba6ac5ee6a430",
       "version_major": 2,
       "version_minor": 0
      },
      "text/plain": [
       "Export report to file:   0%|          | 0/1 [00:00<?, ?it/s]"
      ]
     },
     "metadata": {},
     "output_type": "display_data"
    }
   ],
   "source": [
    "# Generate the report\n",
    "profile = ProfileReport(df, title='Titanic_survival_profile_report')\n",
    "\n",
    "# Save the report to .html\n",
    "profile.to_file('titanic_survival_profile_report.html')"
   ]
  },
  {
   "cell_type": "markdown",
   "id": "ee5f3a71-ef61-4700-b3d1-c78d5c449743",
   "metadata": {},
   "source": [
    "## 3) Data preprocessing and feature engineering\n",
    "\n",
    "Based on the EDA, the data needs to be cleaned to usable format. Here the useful features are chosen, and techniques, such as imputation, omission, encoding, and binning are utlized. \n",
    "\n",
    "\n",
    "The profile report and basic pandas dercriptive statistics provide great insight of each feature in the dataset. The data contains 5 numeric variables, 4 categorical, and 3 textual. Short descriptions and needed actions of each of the 12 variables:\n",
    "\n",
    "PassengerId: basically a running index for data rows. Not important and to be excluded.\n",
    "\n",
    "Survived: binary target variable. The columns has clean ones and zeros. No missing values. No actions needed.\n",
    "\n",
    "Pclass: passanger class in the shit. Numerical categorical ordered feature. No missing values. No actions needed.\n",
    "\n",
    "Name: unique textual variables. Sex is also in a separate column. Not important and to be excluded.\n",
    "\n",
    "Sex: two textual categorical equal classes. No missing values. Encoding needed.\n",
    "\n",
    "Age: numerical continuous variable. Should be binned to age groups to improve learning. ~20% of missing values is too much to be omitted so imputation of some sort is needed.\n",
    "\n",
    "SibSp: number of siblings and spouses on board with the passenger. Continuous numerical variable with 8 distinct values. No missing values. To be combined with Parch to have a single variable for family members on board.\n",
    "\n",
    "Parch: number of parents and kids on board with the passenger. Continuous numerical variable with 8 distinct values. No missing values. To be combined with SibSp to have a single variable for family members on board.\n",
    "\n",
    "Ticket: textual variable with 681 distinct values. Not important and to be excluded.\n",
    "\n",
    "Fare: price paid for ticket order. A single order can have multiple tickets. Likely correlates quite well with Pclass. If used, the fare should be calculated per person.\n",
    "\n",
    "Cabin: textual variable with 147 distinct values. 687 missing value so imputation is not feasible. Thus, the variable is omitted.\n",
    "\n",
    "Embarked: the location where the passenger boarded the ship. Textual categorical variable with three distinct equal values. One-hot encoding needed."
   ]
  },
  {
   "cell_type": "markdown",
   "id": "8ac2ce8c-4379-4b6f-a646-65fdf92b982d",
   "metadata": {},
   "source": [
    "#### Encode Sex and Embarked columns\n",
    "\n",
    "Binary label encoding for Sex and one-hot encoding for Embarked."
   ]
  },
  {
   "cell_type": "code",
   "execution_count": 254,
   "id": "bd2f0c76-b1da-4aed-8b20-474e9b2cecc7",
   "metadata": {},
   "outputs": [],
   "source": [
    "df['Sex'] = df['Sex'].map({'male': 0, 'female': 1})\n",
    "\n",
    "df = pd.get_dummies(df, columns=['Embarked'], prefix='Embarked')"
   ]
  },
  {
   "cell_type": "code",
   "execution_count": 255,
   "id": "e103dd4e-412c-46de-9058-33b08b4deaaf",
   "metadata": {},
   "outputs": [],
   "source": [
    "df['Embarked_C'] = df['Embarked_C'].astype('int')\n",
    "df['Embarked_Q'] = df['Embarked_Q'].astype('int')\n",
    "df['Embarked_S'] = df['Embarked_S'].astype('int')"
   ]
  },
  {
   "cell_type": "raw",
   "id": "497088b7-5b1f-4a8f-9ecc-84a6102f5bde",
   "metadata": {},
   "source": []
  },
  {
   "cell_type": "markdown",
   "id": "03bb36e8-b38f-4375-8a3f-89212518a6f9",
   "metadata": {},
   "source": [
    "#### Imputation of Age data\n",
    "\n",
    "Let's use random imputation for grouped data. That is, the data is grouped based on useful variables and a random sample for each group is used to pad the missing values. "
   ]
  },
  {
   "cell_type": "code",
   "execution_count": 256,
   "id": "77b4e15a-a5f2-4f99-a6e0-754845d8d96b",
   "metadata": {},
   "outputs": [
    {
     "name": "stdout",
     "output_type": "stream",
     "text": [
      "Median age of Miss: 21.0, nbr of samples: 182\n",
      "Median age of Mrs: 35.0, nbr of samples: 129\n",
      "Median age of a female: nan, nbr of samples: 0\n",
      "_______________\n",
      "Median age of Master: 3.5, nbr of samples: 40\n",
      "Median age of Mr: 31.0, nbr of samples: 647\n",
      "Median age of a male: nan, nbr of samples: 0\n",
      "_______________\n",
      "Median age of Pclass 1: 37.0\n",
      "Median age of Pclass 2: 29.0\n",
      "Median age of Pclass 3: 24.0\n"
     ]
    }
   ],
   "source": [
    "# Effect of 'Miss'/'Master'/'Mrs'/'Mr' in name column to the Age\n",
    "print(f'Median age of Miss: {df.loc[df[\"Name\"].str.contains(\"Miss\")][\"Age\"].median()}, nbr of samples: {len(df.loc[df[\"Name\"].str.contains(\"Miss\")][\"Age\"])}')\n",
    "print(f'Median age of Mrs: {df.loc[df[\"Name\"].str.contains(\"Mrs\")][\"Age\"].median()}, nbr of samples: {len(df.loc[df[\"Name\"].str.contains(\"Mrs\")][\"Age\"])}')\n",
    "print(f'Median age of a female: {df.loc[df[\"Sex\"] == \"female\"][\"Age\"].median()}, nbr of samples: {len(df.loc[df[\"Sex\"] == \"female\"][\"Age\"])}')\n",
    "print('_______________')\n",
    "print(f'Median age of Master: {df.loc[df[\"Name\"].str.contains(\"Master\")][\"Age\"].median()}, nbr of samples: {len(df.loc[df[\"Name\"].str.contains(\"Master\")][\"Age\"])}')\n",
    "print(f'Median age of Mr: {df.loc[df[\"Name\"].str.contains(\"Mr\")][\"Age\"].median()}, nbr of samples: {len(df.loc[df[\"Name\"].str.contains(\"Mr\")][\"Age\"])}')\n",
    "print(f'Median age of a male: {df.loc[df[\"Sex\"] == \"male\"][\"Age\"].median()}, nbr of samples: {len(df.loc[df[\"Sex\"] == \"male\"][\"Age\"])}')\n",
    "print('_______________')\n",
    "\n",
    "# The correlation heatmap shows that PClass correlates with Age quite strongly\n",
    "print(f'Median age of Pclass 1: {df.loc[df[\"Pclass\"] == 1][\"Age\"].median()}')\n",
    "print(f'Median age of Pclass 2: {df.loc[df[\"Pclass\"] == 2][\"Age\"].median()}')\n",
    "print(f'Median age of Pclass 3: {df.loc[df[\"Pclass\"] == 3][\"Age\"].median()}')\n",
    "\n",
    "# Add title column\n",
    "def get_title(name_str):\n",
    "    for title in ['Mrs', 'Mr', 'Miss', 'Master']:\n",
    "        if title in name_str:\n",
    "            return title\n",
    "    return 'Unknown'\n",
    "\n",
    "df['Title'] = df['Name'].apply(get_title)"
   ]
  },
  {
   "cell_type": "markdown",
   "id": "1a2492c2-e6dc-453c-b1ca-5ee9f1b0e8f8",
   "metadata": {},
   "source": [
    "The Title and Pclass columns affect age and can be utilized in the imputation.\n",
    "\n",
    "Master title describes very well the age of the passenger. Miss, however, can be a kid or an unmarried young woman. Even so, passengers with the Miss title are unlikely to have kids of their own so the Parch field for these people mainly describes whether the passenger has parents on board or not. The passengers that have Miss title and do not have parents on board are likely young adults and not kids."
   ]
  },
  {
   "cell_type": "code",
   "execution_count": 257,
   "id": "6d469e71-10a4-4981-a439-1c1de59a803a",
   "metadata": {},
   "outputs": [
    {
     "name": "stdout",
     "output_type": "stream",
     "text": [
      "Median age of Miss with parents: 9.0, nbr of samples: 64\n",
      "Median age of Miss without parents: 26.0, nbr of samples: 118\n"
     ]
    }
   ],
   "source": [
    "print(f'Median age of Miss with parents: {df.loc[(df[\"Name\"].str.contains(\"Miss\")) & (df[\"Parch\"] > 0)][\"Age\"].median()}, nbr of samples: {len(df.loc[(df[\"Name\"].str.contains(\"Miss\")) & (df[\"Parch\"] > 0)][\"Age\"])}')\n",
    "print(f'Median age of Miss without parents: {df.loc[(df[\"Name\"].str.contains(\"Miss\")) & (df[\"Parch\"] == 0)][\"Age\"].median()}, nbr of samples: {len(df.loc[(df[\"Name\"].str.contains(\"Miss\")) & (df[\"Parch\"] == 0)][\"Age\"])}')"
   ]
  },
  {
   "cell_type": "markdown",
   "id": "278f2e70-1ad0-4353-82fd-d02cba1badbc",
   "metadata": {},
   "source": [
    "As seen, the number of Parch associated with every Miss on board has an effect on the age. Let's modify the adult Miss passengers with a new title. "
   ]
  },
  {
   "cell_type": "code",
   "execution_count": 258,
   "id": "4ce2fcaf-33db-477b-95be-b66088c49c21",
   "metadata": {},
   "outputs": [
    {
     "name": "stdout",
     "output_type": "stream",
     "text": [
      "     PassengerId  Survived  Pclass                       Name  Sex  Age  \\\n",
      "766          767         0       1  Brewe, Dr. Arthur Jackson    0  NaN   \n",
      "\n",
      "     SibSp  Parch  Ticket  Fare Cabin  Embarked_C  Embarked_Q  Embarked_S  \\\n",
      "766      0      0  112379  39.6   NaN           1           0           0   \n",
      "\n",
      "       Title  \n",
      "766  Unknown  \n"
     ]
    }
   ],
   "source": [
    "# Modify title for assumed adults with the Miss title\n",
    "df.loc[(df[\"Name\"].str.contains(\"Miss\")) & (df[\"Parch\"] == 0), 'Title'] = 'Miss_adult'"
   ]
  },
  {
   "cell_type": "markdown",
   "id": "31e058fb-1175-4411-bf49-3deaa8e2f257",
   "metadata": {},
   "source": [
    "The remainining null age data contains only one row that has a more unique title. Let's modify it for the man. "
   ]
  },
  {
   "cell_type": "code",
   "execution_count": 271,
   "id": "f80ff414-4662-495d-a99b-be723f4439a7",
   "metadata": {},
   "outputs": [
    {
     "name": "stdout",
     "output_type": "stream",
     "text": [
      "Empty DataFrame\n",
      "Columns: [PassengerId, Survived, Pclass, Name, Sex, Age, SibSp, Parch, Ticket, Fare, Cabin, Embarked_C, Embarked_Q, Embarked_S, Title, people_per_order, fare_per_person, fare_per_person_bin, age]\n",
      "Index: []\n"
     ]
    }
   ],
   "source": [
    "print(df.loc[(df.Title == 'Unknown') & (df.Age.isnull())])\n",
    "\n",
    "# Assign the remaining male doctor with title Mr\n",
    "df.loc[(df['Title'] == 'Unknown') & (df['Age'].isnull()), 'Title'] = 'Mr'"
   ]
  },
  {
   "cell_type": "markdown",
   "id": "292d7dc4-7ac7-454c-a82c-72eb68fdcfc0",
   "metadata": {},
   "source": [
    "Let's compute the ticket fare per person and check whether this has an effect on age like Pclass did.\n",
    "\n",
    "All people that were on the same order have the same ticket. Let's map the number of specific ticket instances for the ticket holders, compute the fare per person, and plot the dstribution."
   ]
  },
  {
   "cell_type": "code",
   "execution_count": 273,
   "id": "6eefd343-4ee0-45d2-8af0-2db58e295af2",
   "metadata": {},
   "outputs": [
    {
     "data": {
      "image/png": "[encoded data removed]",
      "text/plain": [
       "<Figure size 640x480 with 1 Axes>"
      ]
     },
     "metadata": {},
     "output_type": "display_data"
    },
    {
     "data": {
      "text/html": [
       "<div>\n",
       "<style scoped>\n",
       "    .dataframe tbody tr th:only-of-type {\n",
       "        vertical-align: middle;\n",
       "    }\n",
       "\n",
       "    .dataframe tbody tr th {\n",
       "        vertical-align: top;\n",
       "    }\n",
       "\n",
       "    .dataframe thead th {\n",
       "        text-align: right;\n",
       "    }\n",
       "</style>\n",
       "<table border=\"1\" class=\"dataframe\">\n",
       "  <thead>\n",
       "    <tr style=\"text-align: right;\">\n",
       "      <th></th>\n",
       "      <th>PassengerId</th>\n",
       "      <th>Survived</th>\n",
       "      <th>Pclass</th>\n",
       "      <th>Name</th>\n",
       "      <th>Sex</th>\n",
       "      <th>Age</th>\n",
       "      <th>SibSp</th>\n",
       "      <th>Parch</th>\n",
       "      <th>Ticket</th>\n",
       "      <th>Fare</th>\n",
       "      <th>Cabin</th>\n",
       "      <th>Embarked_C</th>\n",
       "      <th>Embarked_Q</th>\n",
       "      <th>Embarked_S</th>\n",
       "      <th>Title</th>\n",
       "      <th>people_per_order</th>\n",
       "      <th>fare_per_person</th>\n",
       "      <th>fare_per_person_bin</th>\n",
       "      <th>age</th>\n",
       "    </tr>\n",
       "  </thead>\n",
       "  <tbody>\n",
       "    <tr>\n",
       "      <th>118</th>\n",
       "      <td>119</td>\n",
       "      <td>0</td>\n",
       "      <td>1</td>\n",
       "      <td>Baxter, Mr. Quigg Edmond</td>\n",
       "      <td>0</td>\n",
       "      <td>24.0</td>\n",
       "      <td>0</td>\n",
       "      <td>1</td>\n",
       "      <td>PC 17558</td>\n",
       "      <td>247.5208</td>\n",
       "      <td>B58 B60</td>\n",
       "      <td>1</td>\n",
       "      <td>0</td>\n",
       "      <td>0</td>\n",
       "      <td>Mr</td>\n",
       "      <td>2</td>\n",
       "      <td>123.7604</td>\n",
       "      <td>5</td>\n",
       "      <td>24.0</td>\n",
       "    </tr>\n",
       "    <tr>\n",
       "      <th>258</th>\n",
       "      <td>259</td>\n",
       "      <td>1</td>\n",
       "      <td>1</td>\n",
       "      <td>Ward, Miss. Anna</td>\n",
       "      <td>1</td>\n",
       "      <td>35.0</td>\n",
       "      <td>0</td>\n",
       "      <td>0</td>\n",
       "      <td>PC 17755</td>\n",
       "      <td>512.3292</td>\n",
       "      <td>NaN</td>\n",
       "      <td>1</td>\n",
       "      <td>0</td>\n",
       "      <td>0</td>\n",
       "      <td>Miss_adult</td>\n",
       "      <td>3</td>\n",
       "      <td>170.7764</td>\n",
       "      <td>5</td>\n",
       "      <td>35.0</td>\n",
       "    </tr>\n",
       "    <tr>\n",
       "      <th>299</th>\n",
       "      <td>300</td>\n",
       "      <td>1</td>\n",
       "      <td>1</td>\n",
       "      <td>Baxter, Mrs. James (Helene DeLaudeniere Chaput)</td>\n",
       "      <td>1</td>\n",
       "      <td>50.0</td>\n",
       "      <td>0</td>\n",
       "      <td>1</td>\n",
       "      <td>PC 17558</td>\n",
       "      <td>247.5208</td>\n",
       "      <td>B58 B60</td>\n",
       "      <td>1</td>\n",
       "      <td>0</td>\n",
       "      <td>0</td>\n",
       "      <td>Mrs</td>\n",
       "      <td>2</td>\n",
       "      <td>123.7604</td>\n",
       "      <td>5</td>\n",
       "      <td>50.0</td>\n",
       "    </tr>\n",
       "    <tr>\n",
       "      <th>311</th>\n",
       "      <td>312</td>\n",
       "      <td>1</td>\n",
       "      <td>1</td>\n",
       "      <td>Ryerson, Miss. Emily Borie</td>\n",
       "      <td>1</td>\n",
       "      <td>18.0</td>\n",
       "      <td>2</td>\n",
       "      <td>2</td>\n",
       "      <td>PC 17608</td>\n",
       "      <td>262.3750</td>\n",
       "      <td>B57 B59 B63 B66</td>\n",
       "      <td>1</td>\n",
       "      <td>0</td>\n",
       "      <td>0</td>\n",
       "      <td>Miss</td>\n",
       "      <td>2</td>\n",
       "      <td>131.1875</td>\n",
       "      <td>5</td>\n",
       "      <td>18.0</td>\n",
       "    </tr>\n",
       "    <tr>\n",
       "      <th>377</th>\n",
       "      <td>378</td>\n",
       "      <td>0</td>\n",
       "      <td>1</td>\n",
       "      <td>Widener, Mr. Harry Elkins</td>\n",
       "      <td>0</td>\n",
       "      <td>27.0</td>\n",
       "      <td>0</td>\n",
       "      <td>2</td>\n",
       "      <td>113503</td>\n",
       "      <td>211.5000</td>\n",
       "      <td>C82</td>\n",
       "      <td>1</td>\n",
       "      <td>0</td>\n",
       "      <td>0</td>\n",
       "      <td>Mr</td>\n",
       "      <td>1</td>\n",
       "      <td>211.5000</td>\n",
       "      <td>5</td>\n",
       "      <td>27.0</td>\n",
       "    </tr>\n",
       "    <tr>\n",
       "      <th>527</th>\n",
       "      <td>528</td>\n",
       "      <td>0</td>\n",
       "      <td>1</td>\n",
       "      <td>Farthing, Mr. John</td>\n",
       "      <td>0</td>\n",
       "      <td>NaN</td>\n",
       "      <td>0</td>\n",
       "      <td>0</td>\n",
       "      <td>PC 17483</td>\n",
       "      <td>221.7792</td>\n",
       "      <td>C95</td>\n",
       "      <td>0</td>\n",
       "      <td>0</td>\n",
       "      <td>1</td>\n",
       "      <td>Mr</td>\n",
       "      <td>1</td>\n",
       "      <td>221.7792</td>\n",
       "      <td>5</td>\n",
       "      <td>80.0</td>\n",
       "    </tr>\n",
       "    <tr>\n",
       "      <th>679</th>\n",
       "      <td>680</td>\n",
       "      <td>1</td>\n",
       "      <td>1</td>\n",
       "      <td>Cardeza, Mr. Thomas Drake Martinez</td>\n",
       "      <td>0</td>\n",
       "      <td>36.0</td>\n",
       "      <td>0</td>\n",
       "      <td>1</td>\n",
       "      <td>PC 17755</td>\n",
       "      <td>512.3292</td>\n",
       "      <td>B51 B53 B55</td>\n",
       "      <td>1</td>\n",
       "      <td>0</td>\n",
       "      <td>0</td>\n",
       "      <td>Mr</td>\n",
       "      <td>3</td>\n",
       "      <td>170.7764</td>\n",
       "      <td>5</td>\n",
       "      <td>36.0</td>\n",
       "    </tr>\n",
       "    <tr>\n",
       "      <th>737</th>\n",
       "      <td>738</td>\n",
       "      <td>1</td>\n",
       "      <td>1</td>\n",
       "      <td>Lesurer, Mr. Gustave J</td>\n",
       "      <td>0</td>\n",
       "      <td>35.0</td>\n",
       "      <td>0</td>\n",
       "      <td>0</td>\n",
       "      <td>PC 17755</td>\n",
       "      <td>512.3292</td>\n",
       "      <td>B101</td>\n",
       "      <td>1</td>\n",
       "      <td>0</td>\n",
       "      <td>0</td>\n",
       "      <td>Mr</td>\n",
       "      <td>3</td>\n",
       "      <td>170.7764</td>\n",
       "      <td>5</td>\n",
       "      <td>35.0</td>\n",
       "    </tr>\n",
       "    <tr>\n",
       "      <th>742</th>\n",
       "      <td>743</td>\n",
       "      <td>1</td>\n",
       "      <td>1</td>\n",
       "      <td>Ryerson, Miss. Susan Parker \"Suzette\"</td>\n",
       "      <td>1</td>\n",
       "      <td>21.0</td>\n",
       "      <td>2</td>\n",
       "      <td>2</td>\n",
       "      <td>PC 17608</td>\n",
       "      <td>262.3750</td>\n",
       "      <td>B57 B59 B63 B66</td>\n",
       "      <td>1</td>\n",
       "      <td>0</td>\n",
       "      <td>0</td>\n",
       "      <td>Miss</td>\n",
       "      <td>2</td>\n",
       "      <td>131.1875</td>\n",
       "      <td>5</td>\n",
       "      <td>21.0</td>\n",
       "    </tr>\n",
       "  </tbody>\n",
       "</table>\n",
       "</div>"
      ],
      "text/plain": [
       "     PassengerId  Survived  Pclass  \\\n",
       "118          119         0       1   \n",
       "258          259         1       1   \n",
       "299          300         1       1   \n",
       "311          312         1       1   \n",
       "377          378         0       1   \n",
       "527          528         0       1   \n",
       "679          680         1       1   \n",
       "737          738         1       1   \n",
       "742          743         1       1   \n",
       "\n",
       "                                                Name  Sex   Age  SibSp  Parch  \\\n",
       "118                         Baxter, Mr. Quigg Edmond    0  24.0      0      1   \n",
       "258                                 Ward, Miss. Anna    1  35.0      0      0   \n",
       "299  Baxter, Mrs. James (Helene DeLaudeniere Chaput)    1  50.0      0      1   \n",
       "311                       Ryerson, Miss. Emily Borie    1  18.0      2      2   \n",
       "377                        Widener, Mr. Harry Elkins    0  27.0      0      2   \n",
       "527                               Farthing, Mr. John    0   NaN      0      0   \n",
       "679               Cardeza, Mr. Thomas Drake Martinez    0  36.0      0      1   \n",
       "737                           Lesurer, Mr. Gustave J    0  35.0      0      0   \n",
       "742            Ryerson, Miss. Susan Parker \"Suzette\"    1  21.0      2      2   \n",
       "\n",
       "       Ticket      Fare            Cabin  Embarked_C  Embarked_Q  Embarked_S  \\\n",
       "118  PC 17558  247.5208          B58 B60           1           0           0   \n",
       "258  PC 17755  512.3292              NaN           1           0           0   \n",
       "299  PC 17558  247.5208          B58 B60           1           0           0   \n",
       "311  PC 17608  262.3750  B57 B59 B63 B66           1           0           0   \n",
       "377    113503  211.5000              C82           1           0           0   \n",
       "527  PC 17483  221.7792              C95           0           0           1   \n",
       "679  PC 17755  512.3292      B51 B53 B55           1           0           0   \n",
       "737  PC 17755  512.3292             B101           1           0           0   \n",
       "742  PC 17608  262.3750  B57 B59 B63 B66           1           0           0   \n",
       "\n",
       "          Title  people_per_order  fare_per_person  fare_per_person_bin   age  \n",
       "118          Mr                 2         123.7604                    5  24.0  \n",
       "258  Miss_adult                 3         170.7764                    5  35.0  \n",
       "299         Mrs                 2         123.7604                    5  50.0  \n",
       "311        Miss                 2         131.1875                    5  18.0  \n",
       "377          Mr                 1         211.5000                    5  27.0  \n",
       "527          Mr                 1         221.7792                    5  80.0  \n",
       "679          Mr                 3         170.7764                    5  36.0  \n",
       "737          Mr                 3         170.7764                    5  35.0  \n",
       "742        Miss                 2         131.1875                    5  21.0  "
      ]
     },
     "execution_count": 273,
     "metadata": {},
     "output_type": "execute_result"
    }
   ],
   "source": [
    "# Map the number of ticket instances for each row\n",
    "ticket_counts = df['Ticket'].value_counts()\n",
    "df['people_per_order'] = df['Ticket'].map(ticket_counts)\n",
    "\n",
    "# Calculate the fare per person\n",
    "df['fare_per_person'] = df['Fare'] / df['people_per_order']\n",
    "\n",
    "# Plot the distribution\n",
    "plt.figure()\n",
    "plt.hist(df.fare_per_person, bins=100)\n",
    "plt.show()\n",
    "\n",
    "# Check the highest fares for irregularities\n",
    "df.loc[df.fare_per_person > 100]"
   ]
  },
  {
   "cell_type": "markdown",
   "id": "4747850b-5406-46ed-af74-9490660ba8dc",
   "metadata": {},
   "source": [
    "Bin the fare per person somewhat evenly. "
   ]
  },
  {
   "cell_type": "code",
   "execution_count": 280,
   "id": "8ab95ac6-bf43-4a46-9647-1b9003bb56d6",
   "metadata": {},
   "outputs": [
    {
     "name": "stdout",
     "output_type": "stream",
     "text": [
      "Median age of fare per person group 0: 22.0, nbr of samples: 180\n",
      "Median age of fare per person group 1: 26.0, nbr of samples: 218\n",
      "Median age of fare per person group 2: 26.0, nbr of samples: 138\n",
      "Median age of fare per person group 3: 33.0, nbr of samples: 189\n",
      "Median age of fare per person group 4: 36.0, nbr of samples: 166\n"
     ]
    }
   ],
   "source": [
    "# Bin the data into equally large groups with quantile binning\n",
    "df['fare_per_person_bin'] = pd.qcut(df['fare_per_person'], q=5, labels=False)\n",
    "\n",
    "for i, (_, fare_group) in enumerate(df.groupby('fare_per_person_bin')):\n",
    "    print(f'Median age of fare per person group {i}: {fare_group[\"Age\"].median()}, nbr of samples: {len(fare_group)}')"
   ]
  },
  {
   "cell_type": "markdown",
   "id": "9eb19885-4a24-4c84-893c-496a9259f67a",
   "metadata": {},
   "source": [
    "Try different number of bins and see how the created variable compares to Pclass regarding its correlation with the target variable. "
   ]
  },
  {
   "cell_type": "code",
   "execution_count": 281,
   "id": "a2a730de-5ebd-4ac7-84cd-cbc5af2d6eb5",
   "metadata": {
    "scrolled": true
   },
   "outputs": [
    {
     "data": {
      "image/png": "[encoded data removed]",
      "text/plain": [
       "<Figure size 700x400 with 2 Axes>"
      ]
     },
     "metadata": {},
     "output_type": "display_data"
    }
   ],
   "source": [
    "plt.figure(figsize=(7, 4))\n",
    "sns.heatmap(df.loc[:, df.columns.isin(['Pclass', 'fare_per_person_bin', 'Age'])].corr(), annot=True, cmap='coolwarm')\n",
    "plt.show()"
   ]
  },
  {
   "cell_type": "markdown",
   "id": "cbb2d8b7-bd81-4a37-a84d-85c600cd0a5b",
   "metadata": {},
   "source": [
    "Seems that even though fare_per_person has more bins and equal distribution among them, the unbalanced Pclass variable correlates better with the Age. Thus, the fare_per_person is not used for imputation of Age.\n",
    "\n",
    "Finally, check that the imputation grouping data has nothing suspicious going on. That is, the median ages make sense and each group has a reasonible number of samples."
   ]
  },
  {
   "cell_type": "code",
   "execution_count": 286,
   "id": "c3ea5f85-e20b-4d37-b64b-dfc74db0e2d4",
   "metadata": {},
   "outputs": [
    {
     "name": "stdout",
     "output_type": "stream",
     "text": [
      "Sex       0\n",
      "Title     0\n",
      "Pclass    0\n",
      "dtype: int64\n",
      "\n",
      "\n",
      "Pclass  Sex  Title     \n",
      "1       0    Master         4.0\n",
      "             Mr            40.0\n",
      "             Unknown       47.5\n",
      "        1    Miss          20.0\n",
      "             Miss_adult    32.0\n",
      "             Mrs           41.5\n",
      "             Unknown       28.5\n",
      "2       0    Master         1.0\n",
      "             Mr            31.0\n",
      "             Unknown       46.5\n",
      "        1    Miss           7.0\n",
      "             Miss_adult    30.0\n",
      "             Mrs           32.0\n",
      "             Unknown       28.0\n",
      "3       0    Master         4.0\n",
      "             Mr            26.0\n",
      "        1    Miss           5.0\n",
      "             Miss_adult    21.0\n",
      "             Mrs           31.0\n",
      "Name: Age, dtype: float64\n",
      "\n",
      "\n",
      "Pclass  Sex  Title     \n",
      "1       0    Master          3\n",
      "             Mr            109\n",
      "             Unknown        10\n",
      "        1    Miss           16\n",
      "             Miss_adult     30\n",
      "             Mrs            44\n",
      "             Unknown         4\n",
      "2       0    Master          9\n",
      "             Mr             91\n",
      "             Unknown         8\n",
      "        1    Miss           13\n",
      "             Miss_adult     21\n",
      "             Mrs            41\n",
      "             Unknown         1\n",
      "3       0    Master         28\n",
      "             Mr            319\n",
      "        1    Miss           35\n",
      "             Miss_adult     67\n",
      "             Mrs            42\n",
      "Name: Age, dtype: int64\n",
      "\n",
      "\n",
      "Pclass  Sex  Title     \n",
      "1       0    Mr            21\n",
      "        1    Miss_adult     1\n",
      "             Mrs            8\n",
      "2       0    Mr             9\n",
      "        1    Miss_adult     2\n",
      "3       0    Master         4\n",
      "             Mr            90\n",
      "        1    Miss           9\n",
      "             Miss_adult    24\n",
      "             Mrs            9\n",
      "Name: Age, dtype: int64\n",
      "\n",
      "\n"
     ]
    }
   ],
   "source": [
    "# Final check that the grouping variables have no missing values\n",
    "print(df.loc[:, ['Sex', 'Title', 'Pclass']].isnull().sum())\n",
    "print('\\n')\n",
    "\n",
    "# Print the group medians\n",
    "print(df.groupby(['Pclass','Sex','Title'])['Age'].median())\n",
    "print('\\n')\n",
    "\n",
    "# Print the group sizes\n",
    "print(df.groupby(['Pclass','Sex','Title'])['Age'].size())\n",
    "print('\\n')\n",
    "\n",
    "# Print the groups of the passengers with missing age\n",
    "print(df.loc[df.Age.isnull()].groupby(['Pclass','Sex','Title'])['Age'].size())\n",
    "print('\\n')"
   ]
  },
  {
   "cell_type": "markdown",
   "id": "6f49ff67-8171-423b-82b3-8f8719fcf7dc",
   "metadata": {},
   "source": [
    "Perform the age imputation based on Pclass, Sex, and Pclass. "
   ]
  },
  {
   "cell_type": "code",
   "execution_count": 263,
   "id": "b8716a74-ce18-414a-a29b-a0d7e80f62b1",
   "metadata": {},
   "outputs": [],
   "source": [
    "# Impute the missing Age values with random choices from imputation groups\n",
    "def fill_age(x, df1):\n",
    "    ages = df1[(df1.Pclass == x.Pclass) & (df1.Sex == x.Sex) & (df1.Title == x.Title)]['Age'].values\n",
    "    return np.random.choice(ages, size=1)[0]\n",
    "\n",
    "df1 = df.loc[df['Age'].notnull()]\n",
    "df['age'] = df.apply(lambda x: fill_age(x, df1) if np.isnan(x['Age']) else x['Age'], axis=1)"
   ]
  },
  {
   "cell_type": "code",
   "execution_count": 264,
   "id": "5e129670-866c-4c6a-9197-b403270e5261",
   "metadata": {},
   "outputs": [
    {
     "data": {
      "image/png": "[encoded data removed]",
      "text/plain": [
       "<Figure size 2000x800 with 1 Axes>"
      ]
     },
     "metadata": {},
     "output_type": "display_data"
    }
   ],
   "source": [
    "# Plot age distributions before and after imputation\n",
    "fig, ax = plt.subplots(1, 1, figsize=(20, 8))\n",
    "ax.hist(df['age'], bins=70, color='C1', label='after imputation')\n",
    "ax.hist(df['Age'], bins=70, color='C0', label='before imputation')\n",
    "plt.legend()\n",
    "plt.show()"
   ]
  },
  {
   "cell_type": "code",
   "execution_count": null,
   "id": "15af6171-d5aa-4f36-9690-31da238d7310",
   "metadata": {},
   "outputs": [],
   "source": [
    "# Binning of continuous variables for enhanced learning\n",
    "\n",
    "# siblings + kids + parents = familysize\n",
    "\n",
    "# Drop useless str columns\n",
    "\n",
    "# one-hot encoding for categorical equal columns\n",
    "\n",
    "# label encoding for categorical ordered columns\n",
    "\n",
    "# null columns\n",
    "    # omission if many nans\n",
    "    # imputation if few"
   ]
  },
  {
   "cell_type": "code",
   "execution_count": null,
   "id": "64911f26-d266-4991-9511-9a49acddf9ef",
   "metadata": {},
   "outputs": [],
   "source": [
    "# data preprocessing, feature engineering, and classification models\n",
    "\n",
    "# 4.1 Logistic regression\n",
    "# 4.2 KNN\n",
    "# 4.3 SVM\n",
    "# 4.4 Decision tree\n",
    "# 4.5 Random forest\n",
    "# XGBoost"
   ]
  }
 ],
 "metadata": {
  "kernelspec": {
   "display_name": "Python 3 (ipykernel)",
   "language": "python",
   "name": "python3"
  },
  "language_info": {
   "codemirror_mode": {
    "name": "ipython",
    "version": 3
   },
   "file_extension": ".py",
   "mimetype": "text/x-python",
   "name": "python",
   "nbconvert_exporter": "python",
   "pygments_lexer": "ipython3",
   "version": "3.11.11"
  }
 },
 "nbformat": 4,
 "nbformat_minor": 5
}
